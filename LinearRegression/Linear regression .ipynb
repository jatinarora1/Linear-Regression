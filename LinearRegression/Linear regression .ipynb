{
 "cells": [
  {
   "cell_type": "code",
   "execution_count": 42,
   "metadata": {},
   "outputs": [],
   "source": [
    "import numpy as np\n",
    "import matplotlib.pyplot as plt"
   ]
  },
  {
   "cell_type": "code",
   "execution_count": 49,
   "metadata": {},
   "outputs": [],
   "source": [
    "def hypothesis(theta,X):\n",
    "    return theta[0]+theta[1]*X\n",
    "\n",
    "def grad(theta,X,Y):\n",
    "    size = X.shape[0]\n",
    "    m = 1/np.mean(X)\n",
    "    gradient = np.zeros((2,))\n",
    "    for i in range(size):\n",
    "        yi = hypothesis(theta,X[i])\n",
    "        gradient[0] += m*(yi-Y[i])\n",
    "        gradient[1] += m*(yi-Y[i])*X[i]\n",
    "    return gradient\n",
    "\n",
    "def error(theta,X,Y):\n",
    "    e = 0\n",
    "    m = 1/2*(np.mean(X))\n",
    "    size = X.shape[0]\n",
    "    for i in range(size):\n",
    "        yi = hypothesis(theta,X[i])\n",
    "        e += m*(yi-Y[i])**2\n",
    "    return e\n",
    "\n",
    "def gradient_descent(X,Y,learning_rate = 0.1,max_steps = 100):\n",
    "    error_list = []\n",
    "    theta = np.zeros((2,))\n",
    "    for i in range(max_steps):\n",
    "        g = grad(theta,X,Y)\n",
    "        theta[0] = theta[0] - learning_rate*g[0]\n",
    "        theta[1] = theta[1] - learning_rate*g[1]\n",
    "        \n",
    "        e = error(theta,X,Y)\n",
    "        error_list.append(e)\n",
    "    return theta,error_list\n",
    "        "
   ]
  },
  {
   "cell_type": "code",
   "execution_count": 50,
   "metadata": {},
   "outputs": [
    {
     "data": {
      "image/png": "[encoded data removed]",
      "text/plain": [
       "<Figure size 432x288 with 1 Axes>"
      ]
     },
     "metadata": {
      "needs_background": "light"
     },
     "output_type": "display_data"
    }
   ],
   "source": [
    "X = np.random.randn(100)\n",
    "\n",
    "e = np.random.randn(100)\n",
    "Y = 2*X + 5 + 0.3*e\n",
    "\n",
    "plt.scatter(X,Y)\n",
    "plt.xlabel(\"House Area\")\n",
    "plt.ylabel(\"Price\")\n",
    "plt.show()"
   ]
  },
  {
   "cell_type": "code",
   "execution_count": 51,
   "metadata": {},
   "outputs": [],
   "source": [
    "theta,error = gradient_descent(X,Y,learning_rate = 0.001,max_steps = 50)"
   ]
  },
  {
   "cell_type": "code",
   "execution_count": 52,
   "metadata": {},
   "outputs": [],
   "source": [
    "yi = hypothesis(theta,X)"
   ]
  },
  {
   "cell_type": "code",
   "execution_count": 53,
   "metadata": {},
   "outputs": [
    {
     "data": {
      "text/plain": [
       "array([3.64276829, 5.29472595, 7.79907633, 4.84944508, 6.81836105,\n",
       "       6.3777297 , 8.05016097, 3.94894677, 6.27278639, 0.88727317,\n",
       "       8.12665036, 6.11109025, 8.23943102, 4.81277216, 7.23759756,\n",
       "       5.10183841, 6.84089122, 5.78343294, 3.41314134, 4.33635297,\n",
       "       8.23001745, 3.30104668, 5.29159904, 3.19670445, 5.9452335 ,\n",
       "       4.10913705, 4.0638555 , 6.61498478, 7.18301046, 6.87966544,\n",
       "       6.68517422, 7.11399933, 9.53849713, 5.11984159, 8.35779308,\n",
       "       6.02889437, 5.59097488, 6.48970067, 0.2740909 , 3.13057139,\n",
       "       4.67061218, 8.24768497, 6.69418546, 1.74592129, 1.65894231,\n",
       "       4.24689596, 4.89314153, 3.92045722, 3.75826857, 7.84932406,\n",
       "       8.9660958 , 0.96480623, 4.06764629, 7.53930687, 5.53340344,\n",
       "       6.02432508, 2.82606206, 5.97949664, 5.37435998, 4.22992183,\n",
       "       6.11478957, 6.21776042, 3.35558724, 7.9580434 , 7.56083799,\n",
       "       5.81107678, 4.18751511, 6.33079292, 3.50124433, 6.13922973,\n",
       "       4.01396128, 5.35741028, 6.4973806 , 3.31904126, 5.88253942,\n",
       "       6.28733064, 4.15674355, 2.35815656, 4.7152911 , 1.05440325,\n",
       "       4.81437405, 2.27549723, 7.65863242, 9.40808658, 6.71469022,\n",
       "       3.44845033, 6.58537872, 4.31388451, 5.514696  , 5.71438558,\n",
       "       1.98326253, 5.4542044 , 4.91524668, 5.0265723 , 4.05277455,\n",
       "       3.83893398, 3.31322962, 5.13231307, 2.17470713, 5.29244828])"
      ]
     },
     "execution_count": 53,
     "metadata": {},
     "output_type": "execute_result"
    }
   ],
   "source": [
    "yi"
   ]
  },
  {
   "cell_type": "code",
   "execution_count": 54,
   "metadata": {},
   "outputs": [
    {
     "data": {
      "image/png": "[encoded data removed]",
      "text/plain": [
       "<Figure size 432x288 with 1 Axes>"
      ]
     },
     "metadata": {
      "needs_background": "light"
     },
     "output_type": "display_data"
    }
   ],
   "source": [
    "plt.plot(X,yi)\n",
    "plt.scatter(X,Y)\n",
    "plt.show()"
   ]
  },
  {
   "cell_type": "code",
   "execution_count": 55,
   "metadata": {},
   "outputs": [
    {
     "data": {
      "image/png": "[encoded data removed]",
      "text/plain": [
       "<Figure size 432x288 with 1 Axes>"
      ]
     },
     "metadata": {
      "needs_background": "light"
     },
     "output_type": "display_data"
    }
   ],
   "source": [
    "plt.plot(error)\n",
    "plt.show()"
   ]
  },
  {
   "cell_type": "code",
   "execution_count": null,
   "metadata": {},
   "outputs": [],
   "source": []
  }
 ],
 "metadata": {
  "kernelspec": {
   "display_name": "Python 3",
   "language": "python",
   "name": "python3"
  },
  "language_info": {
   "codemirror_mode": {
    "name": "ipython",
    "version": 3
   },
   "file_extension": ".py",
   "mimetype": "text/x-python",
   "name": "python",
   "nbconvert_exporter": "python",
   "pygments_lexer": "ipython3",
   "version": "3.7.3"
  }
 },
 "nbformat": 4,
 "nbformat_minor": 2
}
